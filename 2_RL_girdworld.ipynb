{
  "nbformat": 4,
  "nbformat_minor": 0,
  "metadata": {
    "colab": {
      "name": "2. RL girdworld.ipynb",
      "provenance": []
    },
    "kernelspec": {
      "name": "python3",
      "display_name": "Python 3"
    }
  },
  "cells": [
    {
      "cell_type": "code",
      "metadata": {
        "id": "lKVqfK0j20_n"
      },
      "source": [
        "import sys\n",
        "from io import StringIO\n",
        "from gym.envs.toy_text import discrete\n",
        "import numpy as np\n",
        "from collections import defaultdict\n",
        "from random import choice\n",
        "import random\n",
        "import seaborn\n",
        "import matplotlib.pyplot as plt\n"
      ],
      "execution_count": 13,
      "outputs": []
    },
    {
      "cell_type": "code",
      "metadata": {
        "colab": {
          "base_uri": "https://localhost:8080/"
        },
        "id": "GxTk5RUT3C_O",
        "outputId": "05a98b88-5912-45ba-dca0-14be1eaeee58"
      },
      "source": [
        "NORTH = 0\n",
        "EAST = 1\n",
        "SOUTH = 2\n",
        "WEST = 3\n",
        "\n",
        "class Gridworld(discrete.DiscreteEnv): \n",
        "  metadata = {'render.modes': ['human', 'ansi']}\n",
        "  def __init__(self, shape=[9, 9]):\n",
        "    self.shape = shape\n",
        "  \n",
        "    nS = np.prod(shape)\n",
        "    nA = 4\n",
        "\n",
        "    MAX_Y = shape[0]\n",
        "    MAX_X = shape[1]\n",
        "\n",
        "    P = {}\n",
        "    grid = np.arange(nS).reshape(shape)\n",
        "    it = np.nditer(grid, flags=['multi_index'])\n",
        "\n",
        "    while not it.finished:\n",
        "        s = it.iterindex\n",
        "        y, x = it.multi_index\n",
        "\n",
        "        P[s] = {a: [] for a in range(nA)}\n",
        "\n",
        "        # Build wall \n",
        "        self.wall = []\n",
        "        self.block1 = np.array([3, 4, 5, 6, 7])\n",
        "        self.block2 = np.array([2, 3, 4, 5])\n",
        "        self.block3 = np.array([3, 4, 5, 6])\n",
        "        self.build_wall()\n",
        "\n",
        "        # Define snakepit and treasure \n",
        "        self.snakepit = self.shape[0] * 6 + 5  \n",
        "        self.treasure = self.shape[0] * 8 + 8  \n",
        "\n",
        "        if s == self.snakepit:reward = -50.0\n",
        "        elif s == self.treasure: reward = 50.0\n",
        "        else: reward = -1.0\n",
        "\n",
        "        if s == self.snakepit:\n",
        "            P[s][NORTH] = [(1.0, s, reward, True)]\n",
        "            P[s][EAST] = [(1.0, s, reward, True)]\n",
        "            P[s][SOUTH] = [(1.0, s, reward, True)]\n",
        "            P[s][WEST] = [(1.0, s, reward, True)]\n",
        "        else:   \n",
        "            # Moving North \n",
        "            if y == 0 or (y == 2 and x in [2, 3, 4, 5, 6]) or (y == 8 and x in [1, 2, 3, 4]) or (y == 6 and x == 6):\n",
        "                move_north = s\n",
        "            else:\n",
        "                move_north = s - MAX_X\n",
        "            # Moving East \n",
        "            if x == (MAX_X - 1) or (y == 1 and x == 1) or (y == 7 and x == 0) or (x == 5 and y in [2, 3, 4, 5]):\n",
        "                move_east = s\n",
        "            else:\n",
        "                move_east = s + 1\n",
        "            # Moving South \n",
        "            if y == (MAX_Y - 1) or (y == 0 and x in [2, 3, 4, 5, 6]) or (y == 6 and x in [1, 2, 3, 4]):\n",
        "                move_south = s\n",
        "            else:\n",
        "                move_south = s + MAX_X\n",
        "            # Moving West\n",
        "            if x == 0 or (y == 7 and x == 5) or (x == 7 and y in [1, 2, 3, 4, 5]):\n",
        "                move_west = s\n",
        "            else:\n",
        "                move_west = s - 1\n",
        "\n",
        "            P[s][NORTH] = [(1.0, move_north, reward, self.is_terminal(move_north))]\n",
        "            P[s][EAST] = [(1.0, move_east, reward, self.is_terminal(move_east))]\n",
        "            P[s][SOUTH] = [(1.0, move_south, reward, self.is_terminal(move_south))]\n",
        "            P[s][WEST] = [(1.0, move_west, reward, self.is_terminal(move_west))]\n",
        "\n",
        "        it.iternext()\n",
        "\n",
        "    isd = np.ones(nS) / nS\n",
        "\n",
        "    # Near by states \n",
        "    P[self.snakepit + 9][NORTH] = [(1.0, self.snakepit, -50.0, True)]\n",
        "    P[self.snakepit - 1][EAST] = [(1.0, self.snakepit, -50.0, True)]\n",
        "    P[self.snakepit - 9][SOUTH] = [(1.0, self.snakepit, -50.0, True)]\n",
        "    P[self.snakepit + 1][WEST] = [(1.0, self.snakepit, -50.0, True)]\n",
        "    P[self.treasure - 1][EAST] = [(1.0, self.treasure, 50.0, True)]\n",
        "    P[self.treasure - 9][SOUTH] = [(1.0, self.treasure, 50.0, True)]\n",
        "    self.P = P\n",
        "\n",
        "    super(Gridworld, self).__init__(nS, nA, P, isd)\n",
        "\n",
        "  def build_wall(self):\n",
        "    for block in self.block1:\n",
        "        self.wall.append(self.shape[0] * (2 - 1) + block - 1)\n",
        "    for block in self.block2:\n",
        "        self.wall.append(self.shape[0] * (8 - 1) + block - 1)   \n",
        "    for block in self.block3:\n",
        "        self.wall.append(self.shape[0] * (block - 1) + 7 - 1)\n",
        "  \n",
        "\n",
        "  def is_terminal(self, s):\n",
        "      return True if s == self.snakepit or s == self.treasure else False\n",
        "\n",
        "  def _render(self, mode='human', close=False):\n",
        "      if close:\n",
        "          return\n",
        "\n",
        "      outfile = StringIO() if mode == 'ansi' else sys.stdout\n",
        "\n",
        "      grid = np.arange(self.nS).reshape(self.shape)\n",
        "      it = np.nditer(grid, flags=['multi_index'])\n",
        "      while not it.finished:\n",
        "          s = it.iterindex\n",
        "          y, x = it.multi_index\n",
        "\n",
        "          if self.s == s:\n",
        "              output = \" X \" \n",
        "          elif self.is_terminal(s):\n",
        "              output = \" \" + chr(9443) + ' '\n",
        "          elif s in self.wall:\n",
        "              output = \" \" + chr(9618) + ' '\n",
        "          else:\n",
        "              output = \" . \"\n",
        "\n",
        "          if x == 0:\n",
        "              output = output.lstrip()\n",
        "          if x == self.shape[1] - 1:\n",
        "              output = output.rstrip()\n",
        "\n",
        "          outfile.write(output)\n",
        "\n",
        "          if x == self.shape[1] - 1:\n",
        "              outfile.write(\"\\n\")\n",
        "\n",
        "          it.iternext()\n",
        "      print(\"\\n\")\n",
        "\n",
        "env = Gridworld((9, 9))\n",
        "env._render(mode=\"human\")\n"
      ],
      "execution_count": 23,
      "outputs": [
        {
          "output_type": "stream",
          "text": [
            ".  .  .  .  .  .  .  .  .\n",
            ".  .  ▒  ▒  ▒  ▒  ▒  .  .\n",
            ".  .  .  .  .  .  ▒  .  .\n",
            ".  .  .  .  .  .  ▒  .  .\n",
            ".  .  .  .  .  .  ▒  .  .\n",
            ".  .  .  .  .  .  ▒  .  .\n",
            ".  .  X  .  .  ⓣ  .  .  .\n",
            ".  ▒  ▒  ▒  ▒  .  .  .  .\n",
            ".  .  .  .  .  .  .  .  ⓣ\n",
            "\n",
            "\n"
          ],
          "name": "stdout"
        }
      ]
    },
    {
      "cell_type": "markdown",
      "metadata": {
        "id": "bNxFDNMx8lw-"
      },
      "source": [
        "## Monte carlo evaluation"
      ]
    },
    {
      "cell_type": "code",
      "metadata": {
        "id": "Fb4Z6VEn3GAi"
      },
      "source": [
        "def generate_random_episode(env):\n",
        "    episode = []\n",
        "    done = False\n",
        "    state = env.reset()\n",
        "    episode.append((state, -1))\n",
        "    while not done:\n",
        "        action = choice(list(env.P[state].keys())) \n",
        "        next_state = env.P[state][action][0][1]\n",
        "        reward = env.P[state][action][0][2]\n",
        "        done = env.P[state][action][0][3]\n",
        "        episode.append((next_state, reward))\n",
        "        if next_state == 0:\n",
        "            done = True\n",
        "        state = next_state\n",
        "    return episode"
      ],
      "execution_count": 15,
      "outputs": []
    },
    {
      "cell_type": "code",
      "metadata": {
        "id": "nBp38lq08oZa"
      },
      "source": [
        "def monte_carlo(env, num_iter):\n",
        "    values = np.zeros(env.observation_space.n) \n",
        "    returns = dict()\n",
        "    for state in range(env.observation_space.n):\n",
        "        returns[state] = list()\n",
        "    \n",
        "    for i in range(num_iter):\n",
        "        episode = generate_random_episode(env)\n",
        "        already_visited = set({0})  \n",
        "        for s, r in episode:\n",
        "            if s not in already_visited:\n",
        "                already_visited.add(s)\n",
        "                idx = episode.index((s, r))\n",
        "                G = 0\n",
        "                j = 1\n",
        "                while j + idx < len(episode):\n",
        "                    G = gamma * (G + episode[j + idx][1])\n",
        "                    j += 1\n",
        "                returns[s].append(G)\n",
        "                values[s] = np.mean(returns[s])\n",
        "    return values, returns\n",
        "gamma = 1.0\n",
        "values, returns = monte_carlo(env, 500)"
      ],
      "execution_count": 16,
      "outputs": []
    },
    {
      "cell_type": "code",
      "metadata": {
        "colab": {
          "base_uri": "https://localhost:8080/",
          "height": 266
        },
        "id": "rbkMXSZw8r42",
        "outputId": "17e62ee6-dbbe-4696-ed4d-e82d66c55ac7"
      },
      "source": [
        "def show_values(values):\n",
        "    values = values.reshape(env.shape)\n",
        "    ax = seaborn.heatmap(values, cmap = \"Blues_r\", annot = False, linecolor=\"#282828\", linewidths = 0.1)\n",
        "    plt.show()\n",
        "show_values(values)"
      ],
      "execution_count": 17,
      "outputs": [
        {
          "output_type": "display_data",
          "data": {
            "image/png": "[encoded data removed]",
            "text/plain": [
              "<Figure size 432x288 with 2 Axes>"
            ]
          },
          "metadata": {
            "tags": [],
            "needs_background": "light"
          }
        }
      ]
    },
    {
      "cell_type": "markdown",
      "metadata": {
        "id": "aF0pI3r7Hu6q"
      },
      "source": [
        "## SARSA"
      ]
    },
    {
      "cell_type": "code",
      "metadata": {
        "id": "-ibhf4exDGXx"
      },
      "source": [
        "def SARSA(env, discount, step_size, num_episodes):  \n",
        "    states = env.P \n",
        "    actions = [0,1,2,3]\n",
        "    values = defaultdict(dict)\n",
        "\n",
        "    # creating random inital policy \n",
        "    for state in states:\n",
        "        for action in actions:\n",
        "            values[state][action] = random.uniform(0,1)\n",
        "\n",
        "    for i in range(num_episodes):\n",
        "        init_state = choice(list(set(env.P.keys())))\n",
        "        init_action = max(values[init_state].items(), key=lambda a: a[1])[0] \n",
        "        \n",
        "        while not env.is_terminal(init_state):\n",
        "            reward = env.P[init_state][init_action][0][2]\n",
        "            next_state = env.P[init_state][init_action][0][1]\n",
        "            next_action = max(values[next_state].items(), key=lambda a: a[1])[0] \n",
        "            \n",
        "            values[init_state][init_action] += step_size * (reward + discount * values[next_state][next_action]\n",
        "                                                       - values[init_state][init_action])\n",
        "            init_state = next_state\n",
        "            init_action = next_action\n",
        "        sys.stdout.flush()\n",
        "    return values\n",
        "\n",
        "sarsa_val = SARSA(env, 1.0, 0.9, 50000)    "
      ],
      "execution_count": 29,
      "outputs": []
    },
    {
      "cell_type": "code",
      "metadata": {
        "colab": {
          "base_uri": "https://localhost:8080/"
        },
        "id": "W0uCnoxGMNOd",
        "outputId": "68aa9ada-b4b0-475a-ce01-438a74c23f4c"
      },
      "source": [
        "def show_selected_actions(values): \n",
        "  count = 0 \n",
        "  for j in range(9):\n",
        "    layer = []\n",
        "    for i in range(j,j+9):\n",
        "      layer.append(max(values[count].items(), key=lambda a: a[1])[0])\n",
        "      count +=1\n",
        "    print(layer)\n",
        "\n",
        "show_selected_actions(sarsa_val)"
      ],
      "execution_count": 71,
      "outputs": [
        {
          "output_type": "stream",
          "text": [
            "[1, 1, 1, 1, 1, 1, 1, 2, 2]\n",
            "[2, 2, 1, 0, 1, 0, 1, 2, 2]\n",
            "[2, 2, 2, 2, 2, 3, 1, 1, 2]\n",
            "[2, 2, 3, 2, 3, 3, 1, 2, 3]\n",
            "[2, 2, 3, 3, 2, 2, 1, 2, 2]\n",
            "[1, 2, 3, 3, 2, 3, 2, 1, 2]\n",
            "[2, 3, 3, 3, 3, 3, 2, 2, 2]\n",
            "[2, 0, 0, 0, 1, 2, 1, 2, 2]\n",
            "[1, 1, 1, 1, 1, 1, 1, 1, 1]\n"
          ],
          "name": "stdout"
        }
      ]
    },
    {
      "cell_type": "markdown",
      "metadata": {
        "id": "YjjtP1EqX4Jr"
      },
      "source": [
        "## q learning "
      ]
    },
    {
      "cell_type": "code",
      "metadata": {
        "id": "QWTDZ-2iUzom"
      },
      "source": [
        "def q_learning(env, discount, step_size, num_episodes):\n",
        "    states = env.P \n",
        "    actions = [0,1,2,3]\n",
        "    values = defaultdict(dict)\n",
        "\n",
        "    # creating random inital policy \n",
        "    for state in states:\n",
        "        for action in actions:\n",
        "            values[state][action] = random.uniform(0,1)\n",
        "\n",
        "    for i in range(num_episodes):\n",
        "        init_state = choice(list(set(env.P.keys())))  \n",
        "        while not env.is_terminal(init_state):\n",
        "            init_action = max(values[init_state].items(), key=lambda a: a[1])[0]  \n",
        "            reward = env.P[init_state][init_action][0][2]\n",
        "            next_state = env.P[init_state][init_action][0][1]\n",
        "\n",
        "            best_val = max(values[next_state].items(), key=lambda a: a[1])[1]\n",
        "            values[init_state][init_action] += step_size * (reward + discount * best_val\n",
        "                                                       - values[init_state][init_action])\n",
        "            init_state = next_state\n",
        "        sys.stdout.flush()\n",
        "    return values\n",
        "\n",
        "q_vals = q_learning(env, 1.0, 0.9, 50000)    \n"
      ],
      "execution_count": 73,
      "outputs": []
    },
    {
      "cell_type": "code",
      "metadata": {
        "colab": {
          "base_uri": "https://localhost:8080/"
        },
        "id": "2EW4s3zNYkyM",
        "outputId": "2697145f-ed3a-437d-d277-9cb85b1dbde6"
      },
      "source": [
        "show_selected_actions(q_vals)"
      ],
      "execution_count": 74,
      "outputs": [
        {
          "output_type": "stream",
          "text": [
            "[1, 1, 1, 1, 1, 1, 1, 2, 2]\n",
            "[1, 0, 0, 0, 0, 0, 3, 2, 2]\n",
            "[2, 2, 2, 3, 2, 3, 1, 2, 2]\n",
            "[2, 2, 2, 3, 2, 2, 1, 2, 2]\n",
            "[2, 3, 3, 3, 3, 3, 1, 1, 2]\n",
            "[2, 2, 3, 3, 2, 3, 1, 2, 2]\n",
            "[2, 3, 3, 3, 3, 2, 1, 2, 2]\n",
            "[2, 3, 0, 0, 2, 1, 1, 2, 2]\n",
            "[1, 1, 1, 1, 1, 1, 1, 1, 0]\n"
          ],
          "name": "stdout"
        }
      ]
    },
    {
      "cell_type": "code",
      "metadata": {
        "id": "BuGQNf3aY4rh"
      },
      "source": [
        ""
      ],
      "execution_count": null,
      "outputs": []
    }
  ]
}